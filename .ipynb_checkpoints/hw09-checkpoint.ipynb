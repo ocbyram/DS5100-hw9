{
 "cells": [
  {
   "cell_type": "markdown",
   "id": "03673568-c734-4079-8fa9-7c6dd806f5f5",
   "metadata": {},
   "source": [
    "# Metadata\n",
    "\n",
    "```yaml\n",
    "Course:  DS 5100\n",
    "Module:  09 Python Packages\n",
    "Topic:   HW Package Booklover\n",
    "Author:  R.C. Alvarado (adapted)\n",
    "Date:    7 July 2023 (revised)\n",
    "```"
   ]
  },
  {
   "cell_type": "markdown",
   "id": "221f781a-316f-4b35-ac1b-eef41154bfcf",
   "metadata": {},
   "source": [
    "## Student Info\n",
    "\n",
    "- Name: Olivia Byram\n",
    "- Net ID: OCB3WV\n",
    "- URL of this file in GitHub: [https://github.com/ocbyram/DS5100-ocb3wv/blob/main/lessons/M09/hw09.ipynb](https://github.com/ocbyram/DS5100-ocb3wv/blob/main/lessons/M09/hw09.ipynb)"
   ]
  },
  {
   "cell_type": "markdown",
   "id": "6b878897-6979-417a-bad4-1b7ce5156892",
   "metadata": {},
   "source": [
    "# Overview\n",
    "\n",
    "Follow the following recipe we used in class to package the code you wrote for `HW08` -- `booklover.py` and `booklover_test.py`.\n",
    "\n",
    "* Create a new git repo for your package.\n",
    "* Create and edit the required files and directories for your package and move the booklover modules there.\n",
    "* Stage, commit, and push all the files you've created.\n",
    "* Install your package with pip.\n",
    "* Outside of your package dir, write a script to test your method.\n",
    "\n",
    "Put this notebook in your repo. This will allow you to execute bash commands and capture the output directly in the notebook.\n",
    "\n",
    "**TOTAL: 8 POINTS**"
   ]
  },
  {
   "cell_type": "markdown",
   "id": "6aa7dd3d-8eed-4af7-9865-f099bb82026b",
   "metadata": {},
   "source": [
    "# Tasks"
   ]
  },
  {
   "cell_type": "markdown",
   "id": "e5288ef8-0e07-4a96-97b8-69d451fec7ba",
   "metadata": {},
   "source": [
    "## Task 1\n",
    "\n",
    "(5 points)\n",
    "\n",
    "Show the directory structure of your repo by running this command from the root of your repo:"
   ]
  },
  {
   "cell_type": "code",
   "execution_count": 8,
   "id": "b652d639-4369-4a59-b98e-4fd62126b93c",
   "metadata": {},
   "outputs": [
    {
     "name": "stdout",
     "output_type": "stream",
     "text": [
      "total 56\n",
      "drwxr-xr-x  6 oliviabyram  staff    192 Nov  3 16:56 \u001b[34mBookLover\u001b[m\u001b[m\n",
      "drwxr-xr-x  6 oliviabyram  staff    192 Nov  3 17:01 \u001b[34mBookLover.egg-info\u001b[m\u001b[m\n",
      "-rw-r--r--  1 oliviabyram  staff  11357 Nov  3 16:51 LICENSE\n",
      "-rw-r--r--  1 oliviabyram  staff     12 Nov  3 16:51 README.md\n",
      "-rw-r--r--  1 oliviabyram  staff   6324 Nov  3 17:01 hw09.ipynb\n",
      "-rw-r--r--  1 oliviabyram  staff    311 Nov  3 16:56 setup.py\n",
      "\n",
      "./BookLover:\n",
      "total 24\n",
      "-rw-r--r--  1 oliviabyram  staff    31 Nov  3 16:56 __init__.py\n",
      "-rw-r--r--  1 oliviabyram  staff  1468 Nov  3 16:53 booklover.py\n",
      "-rw-r--r--  1 oliviabyram  staff  2326 Nov  3 16:53 booklover_test.py\n",
      "\n",
      "./BookLover.egg-info:\n",
      "total 32\n",
      "-rw-r--r--  1 oliviabyram  staff  250 Nov  3 17:01 PKG-INFO\n",
      "-rw-r--r--  1 oliviabyram  staff  231 Nov  3 17:01 SOURCES.txt\n",
      "-rw-r--r--  1 oliviabyram  staff    1 Nov  3 17:01 dependency_links.txt\n",
      "-rw-r--r--  1 oliviabyram  staff   10 Nov  3 17:01 top_level.txt\n"
     ]
    }
   ],
   "source": [
    "!ls -lR"
   ]
  },
  {
   "cell_type": "markdown",
   "id": "cab3d896-e901-40dd-be2f-4b7f77f5d2eb",
   "metadata": {},
   "source": [
    "## Task 2\n",
    "\n",
    "(1 point)\n",
    "\n",
    "Put the URL of your GitHub repo here. Just paste it into a Markdown cell."
   ]
  },
  {
   "cell_type": "markdown",
   "id": "c1a92349-a42b-4452-bfa7-c23f6f8e2370",
   "metadata": {},
   "source": [
    "URL: https://github.com/ocbyram/DS5100-hw9"
   ]
  },
  {
   "cell_type": "markdown",
   "id": "4cd34f6a-53e2-4b0e-be04-d632dcba734c",
   "metadata": {},
   "source": [
    "## Task 3\n",
    "\n",
    "(1 point)\n",
    "\n",
    "Show the results of installing your package.\n",
    "\n",
    "```bash\n",
    "!pip install -e .\n",
    "```"
   ]
  },
  {
   "cell_type": "code",
   "execution_count": 9,
   "id": "127e52d2-3129-4824-ba05-0b611c8b24a0",
   "metadata": {},
   "outputs": [
    {
     "name": "stdout",
     "output_type": "stream",
     "text": [
      "Obtaining file:///Users/oliviabyram/DS5100-hw9\n",
      "  Preparing metadata (setup.py) ... \u001b[?25ldone\n",
      "\u001b[?25hInstalling collected packages: BookLover\n",
      "  Attempting uninstall: BookLover\n",
      "    Found existing installation: BookLover 0.1\n",
      "    Uninstalling BookLover-0.1:\n",
      "      Successfully uninstalled BookLover-0.1\n",
      "\u001b[33m  DEPRECATION: Legacy editable install of BookLover==0.1 from file:///Users/oliviabyram/DS5100-hw9 (setup.py develop) is deprecated. pip 25.0 will enforce this behaviour change. A possible replacement is to add a pyproject.toml or enable --use-pep517, and use setuptools >= 64. If the resulting installation is not behaving as expected, try using --config-settings editable_mode=compat. Please consult the setuptools documentation for more information. Discussion can be found at https://github.com/pypa/pip/issues/11457\u001b[0m\u001b[33m\n",
      "\u001b[0m  Running setup.py develop for BookLover\n",
      "Successfully installed BookLover-0.1\n"
     ]
    }
   ],
   "source": [
    "!pip install -e ."
   ]
  },
  {
   "cell_type": "markdown",
   "id": "590d28ce-0ff8-4e2b-bce3-bd77df13eb73",
   "metadata": {},
   "source": [
    "## Task 4\n",
    "\n",
    "(1 point)\n",
    "\n",
    "Create a file outside your repo to test your package by running it.\n",
    "\n",
    "To do this, import the package into your file and create a BookLover object.\n",
    "\n",
    "Then add a book and then print number books read.\n",
    "\n",
    "Then run the file. \n",
    "\n",
    "Show the output of running the file below, using a command like the following:\n",
    "\n",
    "```bash\n",
    "!python ../book_lover_demo.py\n",
    "```"
   ]
  },
  {
   "cell_type": "code",
   "execution_count": 19,
   "id": "62bd0caf-26ac-4fc8-b046-3f8045f94406",
   "metadata": {},
   "outputs": [
    {
     "name": "stdout",
     "output_type": "stream",
     "text": [
      "Welcome to my package!\n",
      "Traceback (most recent call last):\n",
      "  File \"/Users/oliviabyram/DS5100-hw9/../booklover_demo.py\", line 1, in <module>\n",
      "    import BookLover.BookLover\n",
      "ModuleNotFoundError: No module named 'BookLover.BookLover'\n"
     ]
    }
   ],
   "source": [
    "!python3 ../booklover_demo.py"
   ]
  },
  {
   "cell_type": "code",
   "execution_count": null,
   "id": "8a98af54-5f1f-4c7b-8439-679c0432a6d4",
   "metadata": {},
   "outputs": [],
   "source": []
  }
 ],
 "metadata": {
  "kernelspec": {
   "display_name": "Python 3 (ipykernel)",
   "language": "python",
   "name": "python3"
  },
  "language_info": {
   "codemirror_mode": {
    "name": "ipython",
    "version": 3
   },
   "file_extension": ".py",
   "mimetype": "text/x-python",
   "name": "python",
   "nbconvert_exporter": "python",
   "pygments_lexer": "ipython3",
   "version": "3.12.5"
  }
 },
 "nbformat": 4,
 "nbformat_minor": 5
}
